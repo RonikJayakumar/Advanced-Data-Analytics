{
  "cells": [
    {
      "cell_type": "markdown",
      "source": [
        "# New York City Taxi Price Prediction\n",
        "\n",
        "In this notebook, the dataset capturing taxi trips in the city of new york has been explored and analysed to find meaningful insights. The project aims to study relevant features and try to predict the total amount per trip to the best of its ability."
      ],
      "metadata": {
        "id": "GSfx5XviP12Y"
      }
    },
    {
      "cell_type": "markdown",
      "source": [
        "## 1.0 Importing Libraries\n",
        "\n",
        "All required libraries for the project are imported in this step."
      ],
      "metadata": {
        "id": "p8FrpoDqQNh1"
      }
    },
    {
      "cell_type": "code",
      "execution_count": 23,
      "metadata": {
        "id": "2msqeYbuWQmE"
      },
      "outputs": [],
      "source": [
        "!pip install -q gdown\n",
        "from google.colab import drive\n",
        "import pandas as pd\n",
        "import numpy as np\n",
        "import matplotlib.pyplot as plt\n",
        "import seaborn as sns\n",
        "from sklearn.preprocessing import StandardScaler\n",
        "from sklearn.model_selection import train_test_split\n",
        "from sklearn.linear_model import LinearRegression, ElasticNet\n",
        "from sklearn.neural_network import MLPRegressor\n",
        "from sklearn.metrics import mean_squared_error\n",
        "from sklearn.ensemble import GradientBoostingRegressor\n",
        "import tensorflow as tf"
      ]
    },
    {
      "cell_type": "markdown",
      "source": [
        "## 2.0 Import and Explore Dataset\n",
        "\n",
        "The dataset is downloaded from drive and converted into a pandas dataframe. Basic data exploration is carried out to understand the required next steps."
      ],
      "metadata": {
        "id": "yco2LOEuQm9Q"
      }
    },
    {
      "cell_type": "code",
      "source": [
        "# Define the file ID and use gdown to download it\n",
        "file_id = '1G4KEYbsbfwvTCEcuCG5DtFmtIK1lepNg'  # Replace with the actual file ID\n",
        "destination = 'data.csv'  # Destination to save the file\n",
        "\n",
        "# Step 3: Construct the file download link and use gdown\n",
        "download_link = f'https://drive.google.com/uc?id=1G4KEYbsbfwvTCEcuCG5DtFmtIK1lepNg'\n",
        "!gdown --output {destination} {download_link}\n",
        "\n",
        "# Step 4: Load the dataset using Pandas\n",
        "df = pd.read_csv(destination)\n"
      ],
      "metadata": {
        "colab": {
          "base_uri": "https://localhost:8080/"
        },
        "id": "Z6xoZS0ADM4n",
        "outputId": "8e4857ca-b646-4135-cf10-3225c2630c33"
      },
      "execution_count": 4,
      "outputs": [
        {
          "output_type": "stream",
          "name": "stdout",
          "text": [
            "Downloading...\n",
            "From (original): https://drive.google.com/uc?id=1G4KEYbsbfwvTCEcuCG5DtFmtIK1lepNg\n",
            "From (redirected): https://drive.google.com/uc?id=1G4KEYbsbfwvTCEcuCG5DtFmtIK1lepNg&confirm=t&uuid=ae17e3b1-0747-4d64-b649-8901b03785bf\n",
            "To: /content/data.csv\n",
            "100% 594M/594M [00:02<00:00, 252MB/s]\n"
          ]
        },
        {
          "output_type": "stream",
          "name": "stderr",
          "text": [
            "<ipython-input-4-bd6baa88013a>:10: DtypeWarning: Columns (6) have mixed types. Specify dtype option on import or set low_memory=False.\n",
            "  df = pd.read_csv(destination)\n"
          ]
        }
      ]
    },
    {
      "cell_type": "code",
      "execution_count": 8,
      "metadata": {
        "colab": {
          "base_uri": "https://localhost:8080/",
          "height": 383
        },
        "id": "d-guUQKzYWSp",
        "outputId": "3f9c337b-3850-4fe7-8f14-a0ba5a5dfec0"
      },
      "outputs": [
        {
          "output_type": "execute_result",
          "data": {
            "text/plain": [
              "   VendorID tpep_pickup_datetime tpep_dropoff_datetime  passenger_count  \\\n",
              "0       1.0  2020-01-01 00:28:15   2020-01-01 00:33:03              1.0   \n",
              "1       1.0  2020-01-01 00:35:39   2020-01-01 00:43:04              1.0   \n",
              "2       1.0  2020-01-01 00:47:41   2020-01-01 00:53:52              1.0   \n",
              "3       1.0  2020-01-01 00:55:23   2020-01-01 01:00:14              1.0   \n",
              "4       2.0  2020-01-01 00:01:58   2020-01-01 00:04:16              1.0   \n",
              "5       2.0  2020-01-01 00:09:44   2020-01-01 00:10:37              1.0   \n",
              "6       2.0  2020-01-01 00:39:25   2020-01-01 00:39:29              1.0   \n",
              "7       2.0  2019-12-18 15:27:49   2019-12-18 15:28:59              1.0   \n",
              "8       2.0  2019-12-18 15:30:35   2019-12-18 15:31:35              4.0   \n",
              "9       1.0  2020-01-01 00:29:01   2020-01-01 00:40:28              2.0   \n",
              "\n",
              "   trip_distance  RatecodeID store_and_fwd_flag  PULocationID  DOLocationID  \\\n",
              "0           1.20         1.0                  N           238           239   \n",
              "1           1.20         1.0                  N           239           238   \n",
              "2           0.60         1.0                  N           238           238   \n",
              "3           0.80         1.0                  N           238           151   \n",
              "4           0.00         1.0                  N           193           193   \n",
              "5           0.03         1.0                  N             7           193   \n",
              "6           0.00         1.0                  N           193           193   \n",
              "7           0.00         5.0                  N           193           193   \n",
              "8           0.00         1.0                  N           193           193   \n",
              "9           0.70         1.0                  N           246            48   \n",
              "\n",
              "   payment_type  fare_amount  extra  mta_tax  tip_amount  tolls_amount  \\\n",
              "0           1.0         6.00    3.0      0.5        1.47           0.0   \n",
              "1           1.0         7.00    3.0      0.5        1.50           0.0   \n",
              "2           1.0         6.00    3.0      0.5        1.00           0.0   \n",
              "3           1.0         5.50    0.5      0.5        1.36           0.0   \n",
              "4           2.0         3.50    0.5      0.5        0.00           0.0   \n",
              "5           2.0         2.50    0.5      0.5        0.00           0.0   \n",
              "6           1.0         2.50    0.5      0.5        0.01           0.0   \n",
              "7           1.0         0.01    0.0      0.0        0.00           0.0   \n",
              "8           1.0         2.50    0.5      0.5        0.00           0.0   \n",
              "9           1.0         8.00    3.0      0.5        2.35           0.0   \n",
              "\n",
              "   improvement_surcharge  total_amount  congestion_surcharge  \n",
              "0                    0.3         11.27                   2.5  \n",
              "1                    0.3         12.30                   2.5  \n",
              "2                    0.3         10.80                   2.5  \n",
              "3                    0.3          8.16                   0.0  \n",
              "4                    0.3          4.80                   0.0  \n",
              "5                    0.3          3.80                   0.0  \n",
              "6                    0.3          3.81                   0.0  \n",
              "7                    0.3          2.81                   2.5  \n",
              "8                    0.3          6.30                   2.5  \n",
              "9                    0.3         14.15                   2.5  "
            ],
            "text/html": [
              "\n",
              "  <div id=\"df-52de0c71-6b63-44ec-bafc-fc1c70ece070\" class=\"colab-df-container\">\n",
              "    <div>\n",
              "<style scoped>\n",
              "    .dataframe tbody tr th:only-of-type {\n",
              "        vertical-align: middle;\n",
              "    }\n",
              "\n",
              "    .dataframe tbody tr th {\n",
              "        vertical-align: top;\n",
              "    }\n",
              "\n",
              "    .dataframe thead th {\n",
              "        text-align: right;\n",
              "    }\n",
              "</style>\n",
              "<table border=\"1\" class=\"dataframe\">\n",
              "  <thead>\n",
              "    <tr style=\"text-align: right;\">\n",
              "      <th></th>\n",
              "      <th>VendorID</th>\n",
              "      <th>tpep_pickup_datetime</th>\n",
              "      <th>tpep_dropoff_datetime</th>\n",
              "      <th>passenger_count</th>\n",
              "      <th>trip_distance</th>\n",
              "      <th>RatecodeID</th>\n",
              "      <th>store_and_fwd_flag</th>\n",
              "      <th>PULocationID</th>\n",
              "      <th>DOLocationID</th>\n",
              "      <th>payment_type</th>\n",
              "      <th>fare_amount</th>\n",
              "      <th>extra</th>\n",
              "      <th>mta_tax</th>\n",
              "      <th>tip_amount</th>\n",
              "      <th>tolls_amount</th>\n",
              "      <th>improvement_surcharge</th>\n",
              "      <th>total_amount</th>\n",
              "      <th>congestion_surcharge</th>\n",
              "    </tr>\n",
              "  </thead>\n",
              "  <tbody>\n",
              "    <tr>\n",
              "      <th>0</th>\n",
              "      <td>1.0</td>\n",
              "      <td>2020-01-01 00:28:15</td>\n",
              "      <td>2020-01-01 00:33:03</td>\n",
              "      <td>1.0</td>\n",
              "      <td>1.20</td>\n",
              "      <td>1.0</td>\n",
              "      <td>N</td>\n",
              "      <td>238</td>\n",
              "      <td>239</td>\n",
              "      <td>1.0</td>\n",
              "      <td>6.00</td>\n",
              "      <td>3.0</td>\n",
              "      <td>0.5</td>\n",
              "      <td>1.47</td>\n",
              "      <td>0.0</td>\n",
              "      <td>0.3</td>\n",
              "      <td>11.27</td>\n",
              "      <td>2.5</td>\n",
              "    </tr>\n",
              "    <tr>\n",
              "      <th>1</th>\n",
              "      <td>1.0</td>\n",
              "      <td>2020-01-01 00:35:39</td>\n",
              "      <td>2020-01-01 00:43:04</td>\n",
              "      <td>1.0</td>\n",
              "      <td>1.20</td>\n",
              "      <td>1.0</td>\n",
              "      <td>N</td>\n",
              "      <td>239</td>\n",
              "      <td>238</td>\n",
              "      <td>1.0</td>\n",
              "      <td>7.00</td>\n",
              "      <td>3.0</td>\n",
              "      <td>0.5</td>\n",
              "      <td>1.50</td>\n",
              "      <td>0.0</td>\n",
              "      <td>0.3</td>\n",
              "      <td>12.30</td>\n",
              "      <td>2.5</td>\n",
              "    </tr>\n",
              "    <tr>\n",
              "      <th>2</th>\n",
              "      <td>1.0</td>\n",
              "      <td>2020-01-01 00:47:41</td>\n",
              "      <td>2020-01-01 00:53:52</td>\n",
              "      <td>1.0</td>\n",
              "      <td>0.60</td>\n",
              "      <td>1.0</td>\n",
              "      <td>N</td>\n",
              "      <td>238</td>\n",
              "      <td>238</td>\n",
              "      <td>1.0</td>\n",
              "      <td>6.00</td>\n",
              "      <td>3.0</td>\n",
              "      <td>0.5</td>\n",
              "      <td>1.00</td>\n",
              "      <td>0.0</td>\n",
              "      <td>0.3</td>\n",
              "      <td>10.80</td>\n",
              "      <td>2.5</td>\n",
              "    </tr>\n",
              "    <tr>\n",
              "      <th>3</th>\n",
              "      <td>1.0</td>\n",
              "      <td>2020-01-01 00:55:23</td>\n",
              "      <td>2020-01-01 01:00:14</td>\n",
              "      <td>1.0</td>\n",
              "      <td>0.80</td>\n",
              "      <td>1.0</td>\n",
              "      <td>N</td>\n",
              "      <td>238</td>\n",
              "      <td>151</td>\n",
              "      <td>1.0</td>\n",
              "      <td>5.50</td>\n",
              "      <td>0.5</td>\n",
              "      <td>0.5</td>\n",
              "      <td>1.36</td>\n",
              "      <td>0.0</td>\n",
              "      <td>0.3</td>\n",
              "      <td>8.16</td>\n",
              "      <td>0.0</td>\n",
              "    </tr>\n",
              "    <tr>\n",
              "      <th>4</th>\n",
              "      <td>2.0</td>\n",
              "      <td>2020-01-01 00:01:58</td>\n",
              "      <td>2020-01-01 00:04:16</td>\n",
              "      <td>1.0</td>\n",
              "      <td>0.00</td>\n",
              "      <td>1.0</td>\n",
              "      <td>N</td>\n",
              "      <td>193</td>\n",
              "      <td>193</td>\n",
              "      <td>2.0</td>\n",
              "      <td>3.50</td>\n",
              "      <td>0.5</td>\n",
              "      <td>0.5</td>\n",
              "      <td>0.00</td>\n",
              "      <td>0.0</td>\n",
              "      <td>0.3</td>\n",
              "      <td>4.80</td>\n",
              "      <td>0.0</td>\n",
              "    </tr>\n",
              "    <tr>\n",
              "      <th>5</th>\n",
              "      <td>2.0</td>\n",
              "      <td>2020-01-01 00:09:44</td>\n",
              "      <td>2020-01-01 00:10:37</td>\n",
              "      <td>1.0</td>\n",
              "      <td>0.03</td>\n",
              "      <td>1.0</td>\n",
              "      <td>N</td>\n",
              "      <td>7</td>\n",
              "      <td>193</td>\n",
              "      <td>2.0</td>\n",
              "      <td>2.50</td>\n",
              "      <td>0.5</td>\n",
              "      <td>0.5</td>\n",
              "      <td>0.00</td>\n",
              "      <td>0.0</td>\n",
              "      <td>0.3</td>\n",
              "      <td>3.80</td>\n",
              "      <td>0.0</td>\n",
              "    </tr>\n",
              "    <tr>\n",
              "      <th>6</th>\n",
              "      <td>2.0</td>\n",
              "      <td>2020-01-01 00:39:25</td>\n",
              "      <td>2020-01-01 00:39:29</td>\n",
              "      <td>1.0</td>\n",
              "      <td>0.00</td>\n",
              "      <td>1.0</td>\n",
              "      <td>N</td>\n",
              "      <td>193</td>\n",
              "      <td>193</td>\n",
              "      <td>1.0</td>\n",
              "      <td>2.50</td>\n",
              "      <td>0.5</td>\n",
              "      <td>0.5</td>\n",
              "      <td>0.01</td>\n",
              "      <td>0.0</td>\n",
              "      <td>0.3</td>\n",
              "      <td>3.81</td>\n",
              "      <td>0.0</td>\n",
              "    </tr>\n",
              "    <tr>\n",
              "      <th>7</th>\n",
              "      <td>2.0</td>\n",
              "      <td>2019-12-18 15:27:49</td>\n",
              "      <td>2019-12-18 15:28:59</td>\n",
              "      <td>1.0</td>\n",
              "      <td>0.00</td>\n",
              "      <td>5.0</td>\n",
              "      <td>N</td>\n",
              "      <td>193</td>\n",
              "      <td>193</td>\n",
              "      <td>1.0</td>\n",
              "      <td>0.01</td>\n",
              "      <td>0.0</td>\n",
              "      <td>0.0</td>\n",
              "      <td>0.00</td>\n",
              "      <td>0.0</td>\n",
              "      <td>0.3</td>\n",
              "      <td>2.81</td>\n",
              "      <td>2.5</td>\n",
              "    </tr>\n",
              "    <tr>\n",
              "      <th>8</th>\n",
              "      <td>2.0</td>\n",
              "      <td>2019-12-18 15:30:35</td>\n",
              "      <td>2019-12-18 15:31:35</td>\n",
              "      <td>4.0</td>\n",
              "      <td>0.00</td>\n",
              "      <td>1.0</td>\n",
              "      <td>N</td>\n",
              "      <td>193</td>\n",
              "      <td>193</td>\n",
              "      <td>1.0</td>\n",
              "      <td>2.50</td>\n",
              "      <td>0.5</td>\n",
              "      <td>0.5</td>\n",
              "      <td>0.00</td>\n",
              "      <td>0.0</td>\n",
              "      <td>0.3</td>\n",
              "      <td>6.30</td>\n",
              "      <td>2.5</td>\n",
              "    </tr>\n",
              "    <tr>\n",
              "      <th>9</th>\n",
              "      <td>1.0</td>\n",
              "      <td>2020-01-01 00:29:01</td>\n",
              "      <td>2020-01-01 00:40:28</td>\n",
              "      <td>2.0</td>\n",
              "      <td>0.70</td>\n",
              "      <td>1.0</td>\n",
              "      <td>N</td>\n",
              "      <td>246</td>\n",
              "      <td>48</td>\n",
              "      <td>1.0</td>\n",
              "      <td>8.00</td>\n",
              "      <td>3.0</td>\n",
              "      <td>0.5</td>\n",
              "      <td>2.35</td>\n",
              "      <td>0.0</td>\n",
              "      <td>0.3</td>\n",
              "      <td>14.15</td>\n",
              "      <td>2.5</td>\n",
              "    </tr>\n",
              "  </tbody>\n",
              "</table>\n",
              "</div>\n",
              "    <div class=\"colab-df-buttons\">\n",
              "\n",
              "  <div class=\"colab-df-container\">\n",
              "    <button class=\"colab-df-convert\" onclick=\"convertToInteractive('df-52de0c71-6b63-44ec-bafc-fc1c70ece070')\"\n",
              "            title=\"Convert this dataframe to an interactive table.\"\n",
              "            style=\"display:none;\">\n",
              "\n",
              "  <svg xmlns=\"http://www.w3.org/2000/svg\" height=\"24px\" viewBox=\"0 -960 960 960\">\n",
              "    <path d=\"M120-120v-720h720v720H120Zm60-500h600v-160H180v160Zm220 220h160v-160H400v160Zm0 220h160v-160H400v160ZM180-400h160v-160H180v160Zm440 0h160v-160H620v160ZM180-180h160v-160H180v160Zm440 0h160v-160H620v160Z\"/>\n",
              "  </svg>\n",
              "    </button>\n",
              "\n",
              "  <style>\n",
              "    .colab-df-container {\n",
              "      display:flex;\n",
              "      gap: 12px;\n",
              "    }\n",
              "\n",
              "    .colab-df-convert {\n",
              "      background-color: #E8F0FE;\n",
              "      border: none;\n",
              "      border-radius: 50%;\n",
              "      cursor: pointer;\n",
              "      display: none;\n",
              "      fill: #1967D2;\n",
              "      height: 32px;\n",
              "      padding: 0 0 0 0;\n",
              "      width: 32px;\n",
              "    }\n",
              "\n",
              "    .colab-df-convert:hover {\n",
              "      background-color: #E2EBFA;\n",
              "      box-shadow: 0px 1px 2px rgba(60, 64, 67, 0.3), 0px 1px 3px 1px rgba(60, 64, 67, 0.15);\n",
              "      fill: #174EA6;\n",
              "    }\n",
              "\n",
              "    .colab-df-buttons div {\n",
              "      margin-bottom: 4px;\n",
              "    }\n",
              "\n",
              "    [theme=dark] .colab-df-convert {\n",
              "      background-color: #3B4455;\n",
              "      fill: #D2E3FC;\n",
              "    }\n",
              "\n",
              "    [theme=dark] .colab-df-convert:hover {\n",
              "      background-color: #434B5C;\n",
              "      box-shadow: 0px 1px 3px 1px rgba(0, 0, 0, 0.15);\n",
              "      filter: drop-shadow(0px 1px 2px rgba(0, 0, 0, 0.3));\n",
              "      fill: #FFFFFF;\n",
              "    }\n",
              "  </style>\n",
              "\n",
              "    <script>\n",
              "      const buttonEl =\n",
              "        document.querySelector('#df-52de0c71-6b63-44ec-bafc-fc1c70ece070 button.colab-df-convert');\n",
              "      buttonEl.style.display =\n",
              "        google.colab.kernel.accessAllowed ? 'block' : 'none';\n",
              "\n",
              "      async function convertToInteractive(key) {\n",
              "        const element = document.querySelector('#df-52de0c71-6b63-44ec-bafc-fc1c70ece070');\n",
              "        const dataTable =\n",
              "          await google.colab.kernel.invokeFunction('convertToInteractive',\n",
              "                                                    [key], {});\n",
              "        if (!dataTable) return;\n",
              "\n",
              "        const docLinkHtml = 'Like what you see? Visit the ' +\n",
              "          '<a target=\"_blank\" href=https://colab.research.google.com/notebooks/data_table.ipynb>data table notebook</a>'\n",
              "          + ' to learn more about interactive tables.';\n",
              "        element.innerHTML = '';\n",
              "        dataTable['output_type'] = 'display_data';\n",
              "        await google.colab.output.renderOutput(dataTable, element);\n",
              "        const docLink = document.createElement('div');\n",
              "        docLink.innerHTML = docLinkHtml;\n",
              "        element.appendChild(docLink);\n",
              "      }\n",
              "    </script>\n",
              "  </div>\n",
              "\n",
              "\n",
              "<div id=\"df-f5176c4a-9b49-4bf1-a4aa-c85e25ce1447\">\n",
              "  <button class=\"colab-df-quickchart\" onclick=\"quickchart('df-f5176c4a-9b49-4bf1-a4aa-c85e25ce1447')\"\n",
              "            title=\"Suggest charts\"\n",
              "            style=\"display:none;\">\n",
              "\n",
              "<svg xmlns=\"http://www.w3.org/2000/svg\" height=\"24px\"viewBox=\"0 0 24 24\"\n",
              "     width=\"24px\">\n",
              "    <g>\n",
              "        <path d=\"M19 3H5c-1.1 0-2 .9-2 2v14c0 1.1.9 2 2 2h14c1.1 0 2-.9 2-2V5c0-1.1-.9-2-2-2zM9 17H7v-7h2v7zm4 0h-2V7h2v10zm4 0h-2v-4h2v4z\"/>\n",
              "    </g>\n",
              "</svg>\n",
              "  </button>\n",
              "\n",
              "<style>\n",
              "  .colab-df-quickchart {\n",
              "      --bg-color: #E8F0FE;\n",
              "      --fill-color: #1967D2;\n",
              "      --hover-bg-color: #E2EBFA;\n",
              "      --hover-fill-color: #174EA6;\n",
              "      --disabled-fill-color: #AAA;\n",
              "      --disabled-bg-color: #DDD;\n",
              "  }\n",
              "\n",
              "  [theme=dark] .colab-df-quickchart {\n",
              "      --bg-color: #3B4455;\n",
              "      --fill-color: #D2E3FC;\n",
              "      --hover-bg-color: #434B5C;\n",
              "      --hover-fill-color: #FFFFFF;\n",
              "      --disabled-bg-color: #3B4455;\n",
              "      --disabled-fill-color: #666;\n",
              "  }\n",
              "\n",
              "  .colab-df-quickchart {\n",
              "    background-color: var(--bg-color);\n",
              "    border: none;\n",
              "    border-radius: 50%;\n",
              "    cursor: pointer;\n",
              "    display: none;\n",
              "    fill: var(--fill-color);\n",
              "    height: 32px;\n",
              "    padding: 0;\n",
              "    width: 32px;\n",
              "  }\n",
              "\n",
              "  .colab-df-quickchart:hover {\n",
              "    background-color: var(--hover-bg-color);\n",
              "    box-shadow: 0 1px 2px rgba(60, 64, 67, 0.3), 0 1px 3px 1px rgba(60, 64, 67, 0.15);\n",
              "    fill: var(--button-hover-fill-color);\n",
              "  }\n",
              "\n",
              "  .colab-df-quickchart-complete:disabled,\n",
              "  .colab-df-quickchart-complete:disabled:hover {\n",
              "    background-color: var(--disabled-bg-color);\n",
              "    fill: var(--disabled-fill-color);\n",
              "    box-shadow: none;\n",
              "  }\n",
              "\n",
              "  .colab-df-spinner {\n",
              "    border: 2px solid var(--fill-color);\n",
              "    border-color: transparent;\n",
              "    border-bottom-color: var(--fill-color);\n",
              "    animation:\n",
              "      spin 1s steps(1) infinite;\n",
              "  }\n",
              "\n",
              "  @keyframes spin {\n",
              "    0% {\n",
              "      border-color: transparent;\n",
              "      border-bottom-color: var(--fill-color);\n",
              "      border-left-color: var(--fill-color);\n",
              "    }\n",
              "    20% {\n",
              "      border-color: transparent;\n",
              "      border-left-color: var(--fill-color);\n",
              "      border-top-color: var(--fill-color);\n",
              "    }\n",
              "    30% {\n",
              "      border-color: transparent;\n",
              "      border-left-color: var(--fill-color);\n",
              "      border-top-color: var(--fill-color);\n",
              "      border-right-color: var(--fill-color);\n",
              "    }\n",
              "    40% {\n",
              "      border-color: transparent;\n",
              "      border-right-color: var(--fill-color);\n",
              "      border-top-color: var(--fill-color);\n",
              "    }\n",
              "    60% {\n",
              "      border-color: transparent;\n",
              "      border-right-color: var(--fill-color);\n",
              "    }\n",
              "    80% {\n",
              "      border-color: transparent;\n",
              "      border-right-color: var(--fill-color);\n",
              "      border-bottom-color: var(--fill-color);\n",
              "    }\n",
              "    90% {\n",
              "      border-color: transparent;\n",
              "      border-bottom-color: var(--fill-color);\n",
              "    }\n",
              "  }\n",
              "</style>\n",
              "\n",
              "  <script>\n",
              "    async function quickchart(key) {\n",
              "      const quickchartButtonEl =\n",
              "        document.querySelector('#' + key + ' button');\n",
              "      quickchartButtonEl.disabled = true;  // To prevent multiple clicks.\n",
              "      quickchartButtonEl.classList.add('colab-df-spinner');\n",
              "      try {\n",
              "        const charts = await google.colab.kernel.invokeFunction(\n",
              "            'suggestCharts', [key], {});\n",
              "      } catch (error) {\n",
              "        console.error('Error during call to suggestCharts:', error);\n",
              "      }\n",
              "      quickchartButtonEl.classList.remove('colab-df-spinner');\n",
              "      quickchartButtonEl.classList.add('colab-df-quickchart-complete');\n",
              "    }\n",
              "    (() => {\n",
              "      let quickchartButtonEl =\n",
              "        document.querySelector('#df-f5176c4a-9b49-4bf1-a4aa-c85e25ce1447 button');\n",
              "      quickchartButtonEl.style.display =\n",
              "        google.colab.kernel.accessAllowed ? 'block' : 'none';\n",
              "    })();\n",
              "  </script>\n",
              "</div>\n",
              "\n",
              "    </div>\n",
              "  </div>\n"
            ],
            "application/vnd.google.colaboratory.intrinsic+json": {
              "type": "dataframe",
              "variable_name": "df"
            }
          },
          "metadata": {},
          "execution_count": 8
        }
      ],
      "source": [
        "# Visualise the first 10 rows\n",
        "df.head(10)"
      ]
    },
    {
      "cell_type": "code",
      "execution_count": 6,
      "metadata": {
        "colab": {
          "base_uri": "https://localhost:8080/"
        },
        "id": "QUVYVWxNaYiz",
        "outputId": "2f3683fe-aee5-44cb-c673-c5ec302a32b7"
      },
      "outputs": [
        {
          "output_type": "stream",
          "name": "stdout",
          "text": [
            "2003-01-01 00:07:17\n",
            "2021-01-02 01:12:10\n"
          ]
        }
      ],
      "source": [
        "# Checking the overall timeframe skew within the dataset\n",
        "min_date = min(df['tpep_pickup_datetime'])\n",
        "max_date = max(df['tpep_pickup_datetime'])\n",
        "print(min_date)\n",
        "print(max_date)"
      ]
    },
    {
      "cell_type": "code",
      "execution_count": null,
      "metadata": {
        "colab": {
          "base_uri": "https://localhost:8080/"
        },
        "id": "YoorNcxScIoa",
        "outputId": "27c0412d-d3d3-4b3a-8d59-3c613454f9a2"
      },
      "outputs": [
        {
          "data": {
            "text/plain": [
              "(6405008, 18)"
            ]
          },
          "execution_count": 6,
          "metadata": {},
          "output_type": "execute_result"
        }
      ],
      "source": [
        "# Overall number of rows and columns\n",
        "df.shape"
      ]
    },
    {
      "cell_type": "code",
      "source": [
        "df.dtypes"
      ],
      "metadata": {
        "colab": {
          "base_uri": "https://localhost:8080/",
          "height": 649
        },
        "id": "JSJ3Ccode0kE",
        "outputId": "3cd180e9-4d74-40e2-9eae-e407f67d177d"
      },
      "execution_count": 39,
      "outputs": [
        {
          "output_type": "execute_result",
          "data": {
            "text/plain": [
              "VendorID                 float64\n",
              "tpep_pickup_datetime      object\n",
              "tpep_dropoff_datetime     object\n",
              "passenger_count          float64\n",
              "trip_distance            float64\n",
              "RatecodeID               float64\n",
              "store_and_fwd_flag        object\n",
              "PULocationID               int64\n",
              "DOLocationID               int64\n",
              "payment_type             float64\n",
              "fare_amount              float64\n",
              "extra                    float64\n",
              "mta_tax                  float64\n",
              "tip_amount               float64\n",
              "tolls_amount             float64\n",
              "improvement_surcharge    float64\n",
              "total_amount             float64\n",
              "congestion_surcharge     float64\n",
              "dtype: object"
            ],
            "text/html": [
              "<div>\n",
              "<style scoped>\n",
              "    .dataframe tbody tr th:only-of-type {\n",
              "        vertical-align: middle;\n",
              "    }\n",
              "\n",
              "    .dataframe tbody tr th {\n",
              "        vertical-align: top;\n",
              "    }\n",
              "\n",
              "    .dataframe thead th {\n",
              "        text-align: right;\n",
              "    }\n",
              "</style>\n",
              "<table border=\"1\" class=\"dataframe\">\n",
              "  <thead>\n",
              "    <tr style=\"text-align: right;\">\n",
              "      <th></th>\n",
              "      <th>0</th>\n",
              "    </tr>\n",
              "  </thead>\n",
              "  <tbody>\n",
              "    <tr>\n",
              "      <th>VendorID</th>\n",
              "      <td>float64</td>\n",
              "    </tr>\n",
              "    <tr>\n",
              "      <th>tpep_pickup_datetime</th>\n",
              "      <td>object</td>\n",
              "    </tr>\n",
              "    <tr>\n",
              "      <th>tpep_dropoff_datetime</th>\n",
              "      <td>object</td>\n",
              "    </tr>\n",
              "    <tr>\n",
              "      <th>passenger_count</th>\n",
              "      <td>float64</td>\n",
              "    </tr>\n",
              "    <tr>\n",
              "      <th>trip_distance</th>\n",
              "      <td>float64</td>\n",
              "    </tr>\n",
              "    <tr>\n",
              "      <th>RatecodeID</th>\n",
              "      <td>float64</td>\n",
              "    </tr>\n",
              "    <tr>\n",
              "      <th>store_and_fwd_flag</th>\n",
              "      <td>object</td>\n",
              "    </tr>\n",
              "    <tr>\n",
              "      <th>PULocationID</th>\n",
              "      <td>int64</td>\n",
              "    </tr>\n",
              "    <tr>\n",
              "      <th>DOLocationID</th>\n",
              "      <td>int64</td>\n",
              "    </tr>\n",
              "    <tr>\n",
              "      <th>payment_type</th>\n",
              "      <td>float64</td>\n",
              "    </tr>\n",
              "    <tr>\n",
              "      <th>fare_amount</th>\n",
              "      <td>float64</td>\n",
              "    </tr>\n",
              "    <tr>\n",
              "      <th>extra</th>\n",
              "      <td>float64</td>\n",
              "    </tr>\n",
              "    <tr>\n",
              "      <th>mta_tax</th>\n",
              "      <td>float64</td>\n",
              "    </tr>\n",
              "    <tr>\n",
              "      <th>tip_amount</th>\n",
              "      <td>float64</td>\n",
              "    </tr>\n",
              "    <tr>\n",
              "      <th>tolls_amount</th>\n",
              "      <td>float64</td>\n",
              "    </tr>\n",
              "    <tr>\n",
              "      <th>improvement_surcharge</th>\n",
              "      <td>float64</td>\n",
              "    </tr>\n",
              "    <tr>\n",
              "      <th>total_amount</th>\n",
              "      <td>float64</td>\n",
              "    </tr>\n",
              "    <tr>\n",
              "      <th>congestion_surcharge</th>\n",
              "      <td>float64</td>\n",
              "    </tr>\n",
              "  </tbody>\n",
              "</table>\n",
              "</div><br><label><b>dtype:</b> object</label>"
            ]
          },
          "metadata": {},
          "execution_count": 39
        }
      ]
    },
    {
      "cell_type": "markdown",
      "metadata": {
        "id": "zRHe80jVbsoA"
      },
      "source": [
        "## 3.0 Data Preparation\n",
        "1. **Filter through only data from 2020** due to resource constraints.This step is implemented due to the large skew of dates that has been noticed during exploration. This step suppresses any inflation characteristics that may affect the total amount."
      ]
    },
    {
      "cell_type": "code",
      "execution_count": 9,
      "metadata": {
        "id": "vaO3ojSECKed"
      },
      "outputs": [],
      "source": [
        "df = df[df['tpep_pickup_datetime'] >= '2020-01-01']\n",
        "df = df[df['tpep_pickup_datetime'] < '2021-01-01']"
      ]
    },
    {
      "cell_type": "markdown",
      "metadata": {
        "id": "yWyN2x5jCMyU"
      },
      "source": [
        "1. **Ensure trip_distance is greater than 0** So faulty trips are removed from the dataset."
      ]
    },
    {
      "cell_type": "code",
      "execution_count": 10,
      "metadata": {
        "id": "jZaclbTzaeyH"
      },
      "outputs": [],
      "source": [
        "df = df[df['trip_distance'] > 0]"
      ]
    },
    {
      "cell_type": "markdown",
      "metadata": {
        "id": "EbHofg0rhFKB"
      },
      "source": [
        "2. **Ensure pickup and dropoff time is not the same** to filter through more faulty data\n",
        "\n"
      ]
    },
    {
      "cell_type": "code",
      "execution_count": 11,
      "metadata": {
        "id": "3qgqLmTlhE2S"
      },
      "outputs": [],
      "source": [
        "df = df[df['tpep_pickup_datetime'] != df['tpep_dropoff_datetime']]"
      ]
    },
    {
      "cell_type": "markdown",
      "metadata": {
        "id": "zZ_4FiutmqYg"
      },
      "source": [
        "3. Drop Duplicate rows if any"
      ]
    },
    {
      "cell_type": "code",
      "execution_count": 12,
      "metadata": {
        "id": "fKLaY2RTmqre"
      },
      "outputs": [],
      "source": [
        "df = df.drop_duplicates()\n",
        "df = df.reset_index(drop=True)"
      ]
    },
    {
      "cell_type": "markdown",
      "metadata": {
        "id": "WOApa7H3DMbi"
      },
      "source": [
        "4. Due to the small number of rows with null values, they are dropped"
      ]
    },
    {
      "cell_type": "code",
      "execution_count": 13,
      "metadata": {
        "id": "Ujzo_RiACqqK"
      },
      "outputs": [],
      "source": [
        "df = df.dropna()"
      ]
    },
    {
      "cell_type": "markdown",
      "metadata": {
        "id": "RI-i9AK7K5aa"
      },
      "source": [
        "5. Drop Outliers in the total amount column to ensure rare trips with extremely high or low amounts do not negatively impact our model."
      ]
    },
    {
      "cell_type": "code",
      "execution_count": 14,
      "metadata": {
        "id": "eovIYbaNK5NZ"
      },
      "outputs": [],
      "source": [
        "def remove_outlier(df_in, col_name):\n",
        "    q1 = df_in[col_name].quantile(0.25)\n",
        "    q3 = df_in[col_name].quantile(0.75)\n",
        "    iqr = q3-q1 #Interquartile range\n",
        "    fence_low  = q1-1.5*iqr\n",
        "    fence_high = q3+1.5*iqr\n",
        "    df_out = df_in.loc[(df_in[col_name] > fence_low) & (df_in[col_name] < fence_high)]\n",
        "    return df_out\n",
        "\n",
        "df = remove_outlier(df,'total_amount')"
      ]
    },
    {
      "cell_type": "code",
      "execution_count": 10,
      "metadata": {
        "colab": {
          "base_uri": "https://localhost:8080/"
        },
        "id": "A1toH0vbDBWD",
        "outputId": "cf766dc9-daa1-4565-fc3f-85f41f864894"
      },
      "outputs": [
        {
          "output_type": "execute_result",
          "data": {
            "text/plain": [
              "(5672347, 18)"
            ]
          },
          "metadata": {},
          "execution_count": 10
        }
      ],
      "source": [
        "df.shape"
      ]
    },
    {
      "cell_type": "markdown",
      "metadata": {
        "id": "KPwz4WzaOSo1"
      },
      "source": [
        "6. **Random Sample the entire database** Due to the large size of the overall dataset, keeping time constraints in mind, the overall dataset is sampled down to 25000 rows."
      ]
    },
    {
      "cell_type": "code",
      "execution_count": 15,
      "metadata": {
        "id": "FaG55gsPOYW8"
      },
      "outputs": [],
      "source": [
        "df_sampled = df.sample(n=100000, random_state=42)"
      ]
    },
    {
      "cell_type": "markdown",
      "metadata": {
        "id": "kXLaHTLZdhDX"
      },
      "source": [
        "7. Since timestamp features cannot be used in modelling, the trip duration and the corresponding trip_speed is calculated using pickup and dropoff time."
      ]
    },
    {
      "cell_type": "code",
      "execution_count": 17,
      "metadata": {
        "collapsed": true,
        "id": "HZP7qt11b4VX"
      },
      "outputs": [],
      "source": [
        "# Step 1: Convert the pickup and dropoff columns to datetime objects\n",
        "df_sampled['tpep_pickup_datetime'] = pd.to_datetime(df_sampled['tpep_pickup_datetime'])\n",
        "df_sampled['tpep_dropoff_datetime'] = pd.to_datetime(df_sampled['tpep_dropoff_datetime'])\n",
        "\n",
        "# Step 2: Calculate the trip duration (dropoff - pickup)\n",
        "df_sampled['trip_duration'] = df_sampled['tpep_dropoff_datetime'] - df_sampled['tpep_pickup_datetime']\n",
        "df_sampled['trip_duration'] = df_sampled['trip_duration'].dt.total_seconds() / 60  # Convert duration to minutes"
      ]
    },
    {
      "cell_type": "code",
      "execution_count": 18,
      "metadata": {
        "collapsed": true,
        "id": "qPuwj5-hcqnG"
      },
      "outputs": [],
      "source": [
        "df_sampled['speed'] = df_sampled['trip_distance'] / (df_sampled['trip_duration'] / 60)"
      ]
    },
    {
      "cell_type": "code",
      "execution_count": null,
      "metadata": {
        "colab": {
          "base_uri": "https://localhost:8080/"
        },
        "id": "zYGDiKghfzHW",
        "outputId": "eec511bc-cd87-4ad7-eb6c-b5fff78b374d"
      },
      "outputs": [
        {
          "data": {
            "text/plain": [
              "Index(['VendorID', 'tpep_pickup_datetime', 'tpep_dropoff_datetime',\n",
              "       'passenger_count', 'trip_distance', 'RatecodeID', 'store_and_fwd_flag',\n",
              "       'PULocationID', 'DOLocationID', 'payment_type', 'fare_amount', 'extra',\n",
              "       'mta_tax', 'tip_amount', 'tolls_amount', 'improvement_surcharge',\n",
              "       'total_amount', 'congestion_surcharge', 'trip_duration', 'speed'],\n",
              "      dtype='object')"
            ]
          },
          "execution_count": 14,
          "metadata": {},
          "output_type": "execute_result"
        }
      ],
      "source": [
        "df_sampled.columns"
      ]
    },
    {
      "cell_type": "markdown",
      "metadata": {
        "id": "4R2sjdej_PCD"
      },
      "source": [
        "## 4.0 Data Scaling"
      ]
    },
    {
      "cell_type": "code",
      "execution_count": 19,
      "metadata": {
        "id": "NL_3BPF9_PUW"
      },
      "outputs": [],
      "source": [
        "scaling_columns = [\n",
        "    'trip_distance', 'fare_amount', 'extra',\n",
        "    'mta_tax', 'tip_amount', 'tolls_amount',\n",
        "    'improvement_surcharge', 'congestion_surcharge',\n",
        "    'trip_duration', 'speed', 'total_amount'\n",
        "]\n",
        "\n",
        "df_selected = df_sampled[scaling_columns]\n",
        "\n",
        "# Scale the data\n",
        "scaler = StandardScaler()\n",
        "df_scaled = scaler.fit_transform(df_selected)\n",
        "df_scaled = pd.DataFrame(df_scaled, columns=scaling_columns)"
      ]
    },
    {
      "cell_type": "markdown",
      "metadata": {
        "id": "SwMyCoh8f4wK"
      },
      "source": [
        "## 5.0 Correlation Matrix"
      ]
    },
    {
      "cell_type": "code",
      "execution_count": 18,
      "metadata": {
        "id": "vSTIchKqnklk"
      },
      "outputs": [],
      "source": [
        "correlation_matrix = df_scaled.corr()"
      ]
    },
    {
      "cell_type": "code",
      "execution_count": 19,
      "metadata": {
        "colab": {
          "base_uri": "https://localhost:8080/",
          "height": 854
        },
        "id": "1ip0tl23nnLG",
        "outputId": "c9b83016-211a-4892-b295-d449a7207e44"
      },
      "outputs": [
        {
          "output_type": "display_data",
          "data": {
            "text/plain": [
              "<Figure size 1000x800 with 2 Axes>"
            ],
            "image/png": "[encoded data removed]"
          },
          "metadata": {}
        }
      ],
      "source": [
        "plt.figure(figsize=(10, 8))  # Adjust size as needed\n",
        "sns.heatmap(correlation_matrix, annot=True, cmap='coolwarm', fmt=\".2f\", linewidths=0.5)\n",
        "\n",
        "# Display the plot\n",
        "plt.title('Correlation Matrix')\n",
        "plt.show()"
      ]
    },
    {
      "cell_type": "markdown",
      "metadata": {
        "id": "zqC8-B6J80DU"
      },
      "source": [
        "## 6.0 Modeling"
      ]
    },
    {
      "cell_type": "markdown",
      "source": [
        "Based on the generated correlation matrix, the features with the highest correlation are seleted for modeling."
      ],
      "metadata": {
        "id": "J3lXaygRWG0Z"
      }
    },
    {
      "cell_type": "code",
      "execution_count": 20,
      "metadata": {
        "id": "0YoNscYZKRaa"
      },
      "outputs": [],
      "source": [
        "# Prepare feature and target datasets\n",
        "X_sampled = df_scaled[['trip_distance', 'fare_amount', 'tip_amount']]\n",
        "y_sampled = df_scaled['total_amount']\n",
        "\n",
        "# Convert to numpy arrays for further processing\n",
        "X_sampled = np.array(X_sampled)\n",
        "y_sampled = np.array(y_sampled)\n"
      ]
    },
    {
      "cell_type": "code",
      "source": [
        "# Check shapes\n",
        "print(\"Shape of X_sampled:\", X_sampled.shape)\n",
        "print(\"Shape of y_sampled:\", y_sampled.shape)\n",
        "\n",
        "# Check data types\n",
        "print(\"Data type of X_sampled:\", X_sampled.dtype)\n",
        "print(\"Data type of y_sampled:\", y_sampled.dtype)\n",
        "\n",
        "# Check for NaN or infinite values\n",
        "print(\"Any NaN in X_sampled?\", np.any(np.isnan(X_sampled)))\n",
        "print(\"Any NaN in y_sampled?\", np.any(np.isnan(y_sampled)))\n",
        "print(\"Any infinite values in X_sampled?\", np.any(np.isinf(X_sampled)))\n",
        "print(\"Any infinite values in y_sampled?\", np.any(np.isinf(y_sampled)))\n",
        "\n",
        "# If using a regression model, check if y_sampled is one-dimensional\n",
        "if len(y_sampled.shape) > 1:\n",
        "    print(\"y_sampled should be 1D. Reshaping if necessary.\")\n",
        "    y_sampled = y_sampled.ravel()  # Flatten the array if needed\n"
      ],
      "metadata": {
        "colab": {
          "base_uri": "https://localhost:8080/"
        },
        "id": "v6fkxNbIsJmj",
        "outputId": "6ee06a4f-63c8-48e1-eff2-c5f8c9985a24"
      },
      "execution_count": 16,
      "outputs": [
        {
          "output_type": "stream",
          "name": "stdout",
          "text": [
            "Shape of X_sampled: (100000, 3)\n",
            "Shape of y_sampled: (100000,)\n",
            "Data type of X_sampled: float64\n",
            "Data type of y_sampled: float64\n",
            "Any NaN in X_sampled? False\n",
            "Any NaN in y_sampled? False\n",
            "Any infinite values in X_sampled? False\n",
            "Any infinite values in y_sampled? False\n"
          ]
        }
      ]
    },
    {
      "cell_type": "markdown",
      "source": [
        "## 5.1 Train Test Split"
      ],
      "metadata": {
        "id": "ROYpPCudWQSa"
      }
    },
    {
      "cell_type": "code",
      "execution_count": 21,
      "metadata": {
        "id": "A-g7VxR9QOt2"
      },
      "outputs": [],
      "source": [
        "X_train, X_test, y_train, y_test = train_test_split(X_sampled, y_sampled, test_size=0.3, random_state=42)"
      ]
    },
    {
      "cell_type": "markdown",
      "metadata": {
        "id": "2liJrTsbp9eO"
      },
      "source": [
        "## 6.2 Baseline Models\n",
        "\n",
        "Since we are trying to predict the total trip amount, multiple baseline regression models are explored to find the best performing model. This model in turn will be studied in depth to gain a deeper and better understanding on the same."
      ]
    },
    {
      "cell_type": "markdown",
      "source": [
        "### 6.2.1 Linear Regression"
      ],
      "metadata": {
        "id": "L0hwG3AlWulk"
      }
    },
    {
      "cell_type": "code",
      "execution_count": null,
      "metadata": {
        "colab": {
          "base_uri": "https://localhost:8080/"
        },
        "id": "kGPlh3wEqFrq",
        "outputId": "959e2975-608c-4ef2-fd96-90c74284ada7"
      },
      "outputs": [
        {
          "output_type": "stream",
          "name": "stdout",
          "text": [
            "RMSE: 0.13108093085464614\n"
          ]
        }
      ],
      "source": [
        "# Create and train the Linear Regression model\n",
        "linear_regressor = LinearRegression()\n",
        "linear_regressor.fit(X_train, y_train)\n",
        "\n",
        "# Make predictions on the test set\n",
        "y_pred_lr = linear_regressor.predict(X_test)\n",
        "\n",
        "# Evaluate the model using RMSE\n",
        "rmse_lr = np.sqrt(mean_squared_error(y_test, y_pred_lr))\n",
        "\n",
        "# Print the RMSE\n",
        "print(f'RMSE: {rmse_lr}')"
      ]
    },
    {
      "cell_type": "markdown",
      "source": [
        "### 6.2.2 Gradient Boosting Regressor"
      ],
      "metadata": {
        "id": "c7kVMij6WxCO"
      }
    },
    {
      "cell_type": "code",
      "source": [
        "gb = GradientBoostingRegressor()\n",
        "gb.fit(X_train, y_train)\n",
        "\n",
        "y_pred_scaled_gb = gb.predict(X_test)\n",
        "\n",
        "rmse_gb = np.sqrt(np.mean((y_pred_scaled_gb - y_test) ** 2))\n",
        "print(f'RMSE: {rmse_gb}')\n",
        "\n",
        "# Make predictions\n",
        "y_pred_scaled = gb.predict(X_test)"
      ],
      "metadata": {
        "colab": {
          "base_uri": "https://localhost:8080/"
        },
        "id": "lfEYFQOAscsW",
        "outputId": "53a43d9f-4e72-4aea-e919-47b1d05b1297"
      },
      "execution_count": null,
      "outputs": [
        {
          "output_type": "stream",
          "name": "stdout",
          "text": [
            "RMSE: 0.12805192293012427\n"
          ]
        }
      ]
    },
    {
      "cell_type": "markdown",
      "source": [
        "### 6.2.3 Elastic Net Regressor"
      ],
      "metadata": {
        "id": "yR_BibvZW5fu"
      }
    },
    {
      "cell_type": "code",
      "source": [
        "el = ElasticNet()\n",
        "el.fit(X_train, y_train)\n",
        "\n",
        "y_pred_scaled_el = el.predict(X_test)\n",
        "\n",
        "rmse_el = np.sqrt(np.mean((y_pred_scaled_el - y_test) ** 2))\n",
        "print(f'RMSE: {rmse_el}')\n",
        "\n",
        "# Make predictions\n",
        "y_pred_scaled_el = el.predict(X_test)"
      ],
      "metadata": {
        "colab": {
          "base_uri": "https://localhost:8080/"
        },
        "id": "Glb10NxKuTZZ",
        "outputId": "7083ef37-bbaf-4016-f50b-cf757abc9f7b"
      },
      "execution_count": null,
      "outputs": [
        {
          "output_type": "stream",
          "name": "stdout",
          "text": [
            "RMSE: 0.6911612537506935\n"
          ]
        }
      ]
    },
    {
      "cell_type": "markdown",
      "source": [
        "### 6.2.4 MultiLayer Perceptron"
      ],
      "metadata": {
        "id": "kHRQ4UAVW86Y"
      }
    },
    {
      "cell_type": "code",
      "source": [
        "from sklearn.neural_network import MLPRegressor\n",
        "\n",
        "mlp = MLPRegressor()\n",
        "mlp.fit(X_train, y_train)\n",
        "\n",
        "y_pred_scaled_mlp = mlp.predict(X_test)\n",
        "\n",
        "rmse_mlp = np.sqrt(np.mean((y_pred_scaled_mlp - y_test) ** 2))\n",
        "print(f'RMSE: {rmse_mlp}')\n",
        "\n",
        "# Make predictions\n",
        "y_pred_scaled_mlp = mlp.predict(X_test)"
      ],
      "metadata": {
        "colab": {
          "base_uri": "https://localhost:8080/"
        },
        "id": "KJvhwoFmvJ2z",
        "outputId": "ad029f38-71a7-4168-ca46-54b1c52cad99"
      },
      "execution_count": null,
      "outputs": [
        {
          "output_type": "stream",
          "name": "stdout",
          "text": [
            "RMSE: 0.12780219988221314\n"
          ]
        }
      ]
    },
    {
      "cell_type": "code",
      "source": [
        "if rmse_lr < rmse_gb and rmse_lr < rmse_el and rmse_lr < rmse_mlp:\n",
        "    print(\"Linear Regression is the best model.\")\n",
        "elif rmse_gb < rmse_lr and rmse_gb < rmse_el and rmse_gb < rmse_mlp:\n",
        "    print(\"Gradient Boosting is the best model.\")\n",
        "elif rmse_el < rmse_lr and rmse_el < rmse_gb and rmse_el < rmse_mlp:\n",
        "    print(\"Elastic Net is the best model.\")\n",
        "else:\n",
        "    print(\"Multilayer Perceptron is the best model.\")"
      ],
      "metadata": {
        "colab": {
          "base_uri": "https://localhost:8080/"
        },
        "id": "DurjfSkO1dmY",
        "outputId": "9d13e147-b15c-4ae4-e32c-6ccb7cf18444"
      },
      "execution_count": null,
      "outputs": [
        {
          "output_type": "stream",
          "name": "stdout",
          "text": [
            "Multilayer Perceptron is the best model.\n"
          ]
        }
      ]
    },
    {
      "cell_type": "markdown",
      "source": [
        "We see that the multilayer perceptron is the best performing model with the gradient boosting regressor also throwing out very similar results. Due to this, both these models are created from scratch to gain a deep understanding on their workings and mechanisms."
      ],
      "metadata": {
        "id": "OG3I0Xw5XCcE"
      }
    },
    {
      "cell_type": "markdown",
      "source": [
        "# 6.3 Multi-Layer Perceptron without Packages\n",
        "A Multilayer Perceptron (MLP) is a type of artificial neural network composed of an input layer, one or more hidden layers, and an output layer. MLPs utilize nonlinear activation functions, such as ReLU, to learn complex relationships in data, making them suitable for various tasks, including regression and classification."
      ],
      "metadata": {
        "id": "POxptGQWV_o4"
      }
    },
    {
      "cell_type": "code",
      "source": [
        "# Activation functions and their derivatives\n",
        "def relu(x):\n",
        "    return tf.maximum(x, 0)\n",
        "\n",
        "def relu_derivative(x):\n",
        "    return tf.cast(x > 0, tf.float32)\n",
        "\n",
        "def linear(x):\n",
        "    return x\n",
        "\n",
        "class MultilayerPerceptron:\n",
        "    def __init__(self, X_sampled, y_sampled, hidden_layers):\n",
        "        self.X_sampled = X_sampled\n",
        "        self.y_sampled = y_sampled\n",
        "        self.hidden_layers = hidden_layers\n",
        "        self.weights = []\n",
        "        self.biases = []\n",
        "        self.rmse_history = []  # To store RMSE values during training\n",
        "\n",
        "        # Adam optimizer from TensorFlow\n",
        "        self.optimizer = tf.keras.optimizers.Adam(learning_rate=0.001)\n",
        "\n",
        "        # Xavier initialization for weights\n",
        "        input_dim = X_sampled.shape[1]\n",
        "        for i in range(len(hidden_layers) + 1):\n",
        "            if i == 0:\n",
        "                self.weights.append(tf.Variable(np.random.randn(input_dim, hidden_layers[i]) * np.sqrt(2 / input_dim), dtype=tf.float32))\n",
        "                self.biases.append(tf.Variable(np.zeros((1, hidden_layers[i])), dtype=tf.float32))\n",
        "            elif i == len(hidden_layers):\n",
        "                self.weights.append(tf.Variable(np.random.randn(hidden_layers[i-1], 1) * np.sqrt(2 / hidden_layers[i-1]), dtype=tf.float32))\n",
        "                self.biases.append(tf.Variable(np.zeros((1, 1)), dtype=tf.float32))\n",
        "            else:\n",
        "                self.weights.append(tf.Variable(np.random.randn(hidden_layers[i-1], hidden_layers[i]) * np.sqrt(2 / hidden_layers[i-1]), dtype=tf.float32))\n",
        "                self.biases.append(tf.Variable(np.zeros((1, hidden_layers[i])), dtype=tf.float32))\n",
        "\n",
        "    def forward_pass(self, X_sampled):\n",
        "        activations = [X_sampled]\n",
        "        for i in range(len(self.hidden_layers) + 1):\n",
        "            z = tf.matmul(activations[-1], self.weights[i]) + self.biases[i]\n",
        "            if i == len(self.hidden_layers):  # Output layer\n",
        "                a = linear(z)\n",
        "            else:  # Hidden layers\n",
        "                a = relu(z)\n",
        "            activations.append(a)\n",
        "        return activations\n",
        "\n",
        "    def train(self, X_sampled, y_sampled, epochs):\n",
        "        # Convert input data to TensorFlow tensors\n",
        "        X_sampled = tf.convert_to_tensor(X_sampled, dtype=tf.float32)\n",
        "        y_sampled = tf.convert_to_tensor(y_sampled, dtype=tf.float32)\n",
        "\n",
        "        for i in range(epochs):\n",
        "            with tf.GradientTape() as tape:\n",
        "                activations = self.forward_pass(X_sampled)\n",
        "                y_pred = activations[-1]\n",
        "                loss = tf.reduce_mean((y_sampled - y_pred) ** 2)\n",
        "\n",
        "            # Compute gradients using TensorFlow's GradientTape\n",
        "            grads = tape.gradient(loss, self.weights + self.biases)\n",
        "\n",
        "            # Apply the gradients using the Adam optimizer\n",
        "            self.optimizer.apply_gradients(zip(grads, self.weights + self.biases))\n",
        "\n",
        "            # Store RMSE at each epoch\n",
        "            rmse = tf.sqrt(loss)\n",
        "            self.rmse_history.append(rmse.numpy())\n",
        "\n",
        "            if i % 100 == 0:\n",
        "                print(f'Epoch {i}, RMSE: {rmse:.4f}')\n",
        "\n",
        "    def predict(self, X_sampled):\n",
        "        # Convert input data to TensorFlow tensor\n",
        "        X_sampled = tf.convert_to_tensor(X_sampled, dtype=tf.float32)\n",
        "        return self.forward_pass(X_sampled)[-1].numpy()\n",
        "\n",
        "    def plot_rmse(self):\n",
        "        import matplotlib.pyplot as plt\n",
        "        plt.figure(figsize=(10, 6))\n",
        "        plt.plot(self.rmse_history, label='Training RMSE')\n",
        "        plt.title('RMSE over Epochs')\n",
        "        plt.xlabel('Epochs')\n",
        "        plt.ylabel('RMSE')\n",
        "        plt.grid(True)\n",
        "        plt.legend()\n",
        "        plt.show()"
      ],
      "metadata": {
        "id": "a3tYO5d7V53A"
      },
      "execution_count": 36,
      "outputs": []
    },
    {
      "cell_type": "code",
      "source": [
        "y_train = y_train.reshape(-1, 1)\n",
        "y_test = y_test.reshape(-1, 1)\n",
        "\n",
        "# Initialize and train the model\n",
        "mlp = MultilayerPerceptron(X_train, y_train, [10, 5])\n",
        "mlp.train(X_train, y_train, epochs=5000)\n"
      ],
      "metadata": {
        "colab": {
          "base_uri": "https://localhost:8080/"
        },
        "id": "9dE_8FMwV8WS",
        "outputId": "ad1a417a-6af9-4bf9-cd8f-a3a735c1eb00"
      },
      "execution_count": 28,
      "outputs": [
        {
          "output_type": "stream",
          "name": "stdout",
          "text": [
            "Epoch 0, RMSE: 1.0429\n",
            "Epoch 100, RMSE: 0.6159\n",
            "Epoch 200, RMSE: 0.3127\n",
            "Epoch 300, RMSE: 0.2387\n",
            "Epoch 400, RMSE: 0.2011\n",
            "Epoch 500, RMSE: 0.1774\n",
            "Epoch 600, RMSE: 0.1624\n",
            "Epoch 700, RMSE: 0.1534\n",
            "Epoch 800, RMSE: 0.1487\n",
            "Epoch 900, RMSE: 0.1458\n",
            "Epoch 1000, RMSE: 0.1438\n",
            "Epoch 1100, RMSE: 0.1423\n",
            "Epoch 1200, RMSE: 0.1411\n",
            "Epoch 1300, RMSE: 0.1401\n",
            "Epoch 1400, RMSE: 0.1394\n",
            "Epoch 1500, RMSE: 0.1387\n",
            "Epoch 1600, RMSE: 0.1380\n",
            "Epoch 1700, RMSE: 0.1375\n",
            "Epoch 1800, RMSE: 0.1370\n",
            "Epoch 1900, RMSE: 0.1365\n",
            "Epoch 2000, RMSE: 0.1359\n",
            "Epoch 2100, RMSE: 0.1355\n",
            "Epoch 2200, RMSE: 0.1352\n",
            "Epoch 2300, RMSE: 0.1350\n",
            "Epoch 2400, RMSE: 0.1348\n",
            "Epoch 2500, RMSE: 0.1345\n",
            "Epoch 2600, RMSE: 0.1344\n",
            "Epoch 2700, RMSE: 0.1342\n",
            "Epoch 2800, RMSE: 0.1340\n",
            "Epoch 2900, RMSE: 0.1339\n",
            "Epoch 3000, RMSE: 0.1337\n",
            "Epoch 3100, RMSE: 0.1336\n",
            "Epoch 3200, RMSE: 0.1335\n",
            "Epoch 3300, RMSE: 0.1334\n",
            "Epoch 3400, RMSE: 0.1332\n",
            "Epoch 3500, RMSE: 0.1331\n",
            "Epoch 3600, RMSE: 0.1331\n",
            "Epoch 3700, RMSE: 0.1330\n",
            "Epoch 3800, RMSE: 0.1329\n",
            "Epoch 3900, RMSE: 0.1328\n",
            "Epoch 4000, RMSE: 0.1328\n",
            "Epoch 4100, RMSE: 0.1327\n",
            "Epoch 4200, RMSE: 0.1327\n",
            "Epoch 4300, RMSE: 0.1326\n",
            "Epoch 4400, RMSE: 0.1326\n",
            "Epoch 4500, RMSE: 0.1325\n",
            "Epoch 4600, RMSE: 0.1325\n",
            "Epoch 4700, RMSE: 0.1324\n",
            "Epoch 4800, RMSE: 0.1324\n",
            "Epoch 4900, RMSE: 0.1323\n"
          ]
        }
      ]
    },
    {
      "cell_type": "code",
      "source": [
        "y_pred = mlp.predict(X_test)\n",
        "rmse = np.sqrt(np.mean((y_test - y_pred) ** 2))\n",
        "print(f'Test RMSE: {rmse:.4f}')"
      ],
      "metadata": {
        "colab": {
          "base_uri": "https://localhost:8080/"
        },
        "id": "Rcrx280TYDyc",
        "outputId": "1b4563e1-0ec0-442b-b130-94de06003661"
      },
      "execution_count": 29,
      "outputs": [
        {
          "output_type": "stream",
          "name": "stdout",
          "text": [
            "Test RMSE: 0.1290\n"
          ]
        }
      ]
    },
    {
      "cell_type": "code",
      "source": [
        "mlp.plot_rmse()"
      ],
      "metadata": {
        "colab": {
          "base_uri": "https://localhost:8080/",
          "height": 564
        },
        "id": "_tn9cYkRYGKy",
        "outputId": "0d941f4c-5e34-44b2-db5e-e853c74727f8"
      },
      "execution_count": 30,
      "outputs": [
        {
          "output_type": "display_data",
          "data": {
            "text/plain": [
              "<Figure size 1000x600 with 1 Axes>"
            ],
            "image/png": "[encoded data removed]"
          },
          "metadata": {}
        }
      ]
    },
    {
      "cell_type": "code",
      "source": [
        "def plot_residuals(y_test, y_pred):\n",
        "    residuals = y_test - y_pred\n",
        "\n",
        "    plt.figure(figsize=(10, 6))\n",
        "    plt.scatter(y_pred, residuals, color='blue', alpha=0.5)\n",
        "    plt.axhline(y=0, color='red', linestyle='--')\n",
        "    plt.title('Residuals vs Predicted Values')\n",
        "    plt.xlabel('Predicted Values')\n",
        "    plt.ylabel('Residuals')\n",
        "    plt.grid(True)\n",
        "    plt.show()\n",
        "\n",
        "# Example of how to use it after you have y_test and y_pred\n",
        "y_pred = mlp.predict(X_test)  # Assuming you already have this from your MLP model\n",
        "plot_residuals(y_test, y_pred)"
      ],
      "metadata": {
        "colab": {
          "base_uri": "https://localhost:8080/",
          "height": 564
        },
        "id": "kjQ9ad8UY2Sz",
        "outputId": "b36227b1-5140-43e7-9f8b-c1e62fa028b2"
      },
      "execution_count": 39,
      "outputs": [
        {
          "output_type": "display_data",
          "data": {
            "text/plain": [
              "<Figure size 1000x600 with 1 Axes>"
            ],
            "image/png": "[encoded data removed]"
          },
          "metadata": {}
        }
      ]
    }
  ],
  "metadata": {
    "colab": {
      "provenance": []
    },
    "kernelspec": {
      "display_name": "Python 3",
      "name": "python3"
    },
    "language_info": {
      "name": "python"
    }
  },
  "nbformat": 4,
  "nbformat_minor": 0
}